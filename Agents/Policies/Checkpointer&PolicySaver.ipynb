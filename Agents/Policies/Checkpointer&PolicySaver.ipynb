{
 "cells": [
  {
   "cell_type": "code",
   "execution_count": 3,
   "metadata": {},
   "outputs": [],
   "source": [
    "import os\n",
    "# Keep using keras-2 (tf-keras) rather than keras-3 (keras).\n",
    "os.environ['TF_USE_LEGACY_KERAS'] = '1'"
   ]
  },
  {
   "cell_type": "code",
   "execution_count": 19,
   "metadata": {},
   "outputs": [],
   "source": [
    "from __future__ import absolute_import\n",
    "from __future__ import division\n",
    "from __future__ import print_function\n",
    "\n",
    "import base64\n",
    "import imageio\n",
    "import io\n",
    "import matplotlib\n",
    "import matplotlib.pyplot as plt\n",
    "import os\n",
    "import shutil\n",
    "import tempfile\n",
    "import tensorflow as tf\n",
    "import zipfile\n",
    "import IPython\n",
    "import PIL\n",
    "from tf_agents.agents.dqn import dqn_agent\n",
    "from tf_agents.drivers import dynamic_step_driver\n",
    "from tf_agents.environments import suite_gym\n",
    "from tf_agents.environments import tf_py_environment\n",
    "from tf_agents.eval import metric_utils\n",
    "from tf_agents.metrics import tf_metrics\n",
    "from tf_agents.networks import q_network\n",
    "from tf_agents.policies import policy_saver\n",
    "from tf_agents.policies import py_tf_eager_policy\n",
    "from tf_agents.policies import random_tf_policy\n",
    "from tf_agents.replay_buffers import tf_uniform_replay_buffer\n",
    "from tf_agents.trajectories import trajectory\n",
    "from tf_agents.utils import common\n",
    "\n",
    "files = None\n",
    "tempdir = os.getenv(\"TEST_TMPDIR\", tempfile.gettempdir())"
   ]
  },
  {
   "cell_type": "code",
   "execution_count": 20,
   "metadata": {},
   "outputs": [],
   "source": [
    "import xvfbwrapper\n",
    "xvfbwrapper.Xvfb(1400, 900, 24).start()\n",
    "\n",
    "#import pyvirtualdisplay\n",
    "#display = pyvirtualdisplay.Display(visible=0, size=(1400, 900)).start()"
   ]
  },
  {
   "cell_type": "code",
   "execution_count": 21,
   "metadata": {},
   "outputs": [
    {
     "data": {
      "text/plain": [
       "'2.15.1'"
      ]
     },
     "execution_count": 21,
     "metadata": {},
     "output_type": "execute_result"
    }
   ],
   "source": [
    "tf.version.VERSION"
   ]
  },
  {
   "cell_type": "markdown",
   "metadata": {},
   "source": [
    "## Hyperparameters"
   ]
  },
  {
   "cell_type": "code",
   "execution_count": 22,
   "metadata": {},
   "outputs": [],
   "source": [
    "env_name = 'CartPole-v1'\n",
    "\n",
    "collect_steps_per_iteration = 100\n",
    "replay_buffer_capacity = 100000\n",
    "\n",
    "fc_layer_params = (100,)\n",
    "\n",
    "batch_size = 64\n",
    "learning_rate = 1e-3\n",
    "log_interval = 5\n",
    "\n",
    "num_eval_episodes = 10\n",
    "eval_interval = 1000"
   ]
  },
  {
   "cell_type": "markdown",
   "metadata": {},
   "source": [
    "## Creation of Train and Evaluation environment\n",
    "\n",
    "Environment: CartPole-v1"
   ]
  },
  {
   "cell_type": "code",
   "execution_count": 23,
   "metadata": {},
   "outputs": [],
   "source": [
    "train_py_env = suite_gym.load(env_name)\n",
    "eval_py_env = suite_gym.load(env_name)\n",
    "\n",
    "train_env = tf_py_environment.TFPyEnvironment(train_py_env)\n",
    "eval_env = tf_py_environment.TFPyEnvironment(eval_py_env)"
   ]
  },
  {
   "cell_type": "code",
   "execution_count": 24,
   "metadata": {},
   "outputs": [
    {
     "name": "stderr",
     "output_type": "stream",
     "text": [
      "'-avx512er' is not a recognized feature for this target (ignoring feature)\n",
      "'-avx512pf' is not a recognized feature for this target (ignoring feature)\n",
      "'-avx512er' is not a recognized feature for this target (ignoring feature)\n",
      "'-avx512pf' is not a recognized feature for this target (ignoring feature)\n",
      "'-avx512er' is not a recognized feature for this target (ignoring feature)\n",
      "'-avx512pf' is not a recognized feature for this target (ignoring feature)\n",
      "'-avx512er' is not a recognized feature for this target (ignoring feature)\n",
      "'-avx512pf' is not a recognized feature for this target (ignoring feature)\n",
      "'-avx512er' is not a recognized feature for this target (ignoring feature)\n",
      "'-avx512pf' is not a recognized feature for this target (ignoring feature)\n",
      "'-avx512er' is not a recognized feature for this target (ignoring feature)\n",
      "'-avx512pf' is not a recognized feature for this target (ignoring feature)\n",
      "'-avx512er' is not a recognized feature for this target (ignoring feature)\n",
      "'-avx512pf' is not a recognized feature for this target (ignoring feature)\n",
      "'-avx512er' is not a recognized feature for this target (ignoring feature)\n",
      "'-avx512pf' is not a recognized feature for this target (ignoring feature)\n",
      "'-avx512er' is not a recognized feature for this target (ignoring feature)\n",
      "'-avx512pf' is not a recognized feature for this target (ignoring feature)\n",
      "'-avx512er' is not a recognized feature for this target (ignoring feature)\n",
      "'-avx512pf' is not a recognized feature for this target (ignoring feature)\n",
      "'-avx512er' is not a recognized feature for this target (ignoring feature)\n",
      "'-avx512pf' is not a recognized feature for this target (ignoring feature)\n",
      "'-avx512er' is not a recognized feature for this target (ignoring feature)\n",
      "'-avx512pf' is not a recognized feature for this target (ignoring feature)\n"
     ]
    },
    {
     "data": {
      "image/jpeg": "[encoded data removed]",
      "image/png": "[encoded data removed]",
      "text/plain": [
       "<PIL.Image.Image image mode=RGB size=600x400>"
      ]
     },
     "execution_count": 24,
     "metadata": {},
     "output_type": "execute_result"
    }
   ],
   "source": [
    "train_py_env.reset()\n",
    "render=train_py_env.render()\n",
    "PIL.Image.fromarray(render)"
   ]
  },
  {
   "cell_type": "markdown",
   "metadata": {},
   "source": [
    "## Initializing of QNetwork, Optimizer, DqnAgent\n",
    "\n",
    "#### QNetwork represent Q-Function --> Q: S x A -> R\n",
    "Q-Function(state, action) = reward\n",
    "\n",
    "#### Adam Optimizer \n",
    "Optimizer perform gradiend operation for weights adjustment\n",
    "\n",
    "#### DqnAgent \n",
    "DqnAgent perform all operations needed for take actions on environment based on states and policy, update observer and optimize throug Adam the weights"
   ]
  },
  {
   "cell_type": "code",
   "execution_count": 25,
   "metadata": {},
   "outputs": [],
   "source": [
    "q_net = q_network.QNetwork(\n",
    "    train_env.observation_spec(),\n",
    "    train_env.action_spec(),\n",
    "    fc_layer_params=fc_layer_params\n",
    ")\n",
    "\n",
    "optimizer = tf.compat.v1.train.AdamOptimizer(learning_rate=learning_rate)\n",
    "\n",
    "global_step = tf.compat.v1.train.get_or_create_global_step()\n",
    "\n",
    "agent = dqn_agent.DqnAgent(\n",
    "    train_env.time_step_spec(),\n",
    "    train_env.action_spec(),\n",
    "    q_network=q_net,\n",
    "    optimizer=optimizer,\n",
    "    td_errors_loss_fn=common.element_wise_huber_loss,\n",
    "    train_step_counter=global_step\n",
    ")\n",
    "\n",
    "agent.initialize()"
   ]
  },
  {
   "cell_type": "markdown",
   "metadata": {},
   "source": [
    "## Data Collection\n",
    "#### Replay Buffer for data store\n",
    "#### Driver for orchestrate comunication and agent call"
   ]
  },
  {
   "cell_type": "code",
   "execution_count": 26,
   "metadata": {},
   "outputs": [],
   "source": [
    "replay_buffer = tf_uniform_replay_buffer.TFUniformReplayBuffer(\n",
    "    data_spec=agent.collect_data_spec,\n",
    "    batch_size=train_env.batch_size,\n",
    "    max_length=replay_buffer_capacity\n",
    ")\n",
    "\n",
    "collect_driver = dynamic_step_driver.DynamicStepDriver(\n",
    "    train_env,\n",
    "    agent.collect_policy,\n",
    "    observers=[replay_buffer.add_batch],\n",
    "    num_steps=collect_steps_per_iteration\n",
    ")\n",
    "\n",
    "collect_driver.run()\n",
    "\n",
    "dataset = replay_buffer.as_dataset(\n",
    "    num_parallel_calls=3, sample_batch_size=batch_size, num_steps=2\n",
    ").prefetch(3)\n",
    "\n",
    "iterator = iter(dataset)"
   ]
  },
  {
   "cell_type": "markdown",
   "metadata": {},
   "source": [
    "## Training\n",
    "#### Following function perform 1 iteration training"
   ]
  },
  {
   "cell_type": "code",
   "execution_count": 27,
   "metadata": {},
   "outputs": [],
   "source": [
    "agent.train = common.function(agent.train)\n",
    "\n",
    "def train_one_iteration():\n",
    "    collect_driver.run()\n",
    "    \n",
    "    experience, unused_info = next(iterator)\n",
    "    train_loss = agent.train(experience)\n",
    "\n",
    "    iteration = agent.train_step_counter.numpy()\n",
    "    print(f'iteration: {iteration} loss: {train_loss.loss}')"
   ]
  },
  {
   "cell_type": "markdown",
   "metadata": {},
   "source": [
    "## Embeds a video into a specified container on the page."
   ]
  },
  {
   "cell_type": "code",
   "execution_count": 28,
   "metadata": {},
   "outputs": [],
   "source": [
    "def embed_video(filename):\n",
    "    video = open(filename, 'rb').read()\n",
    "    b64 = base64.b64encode(video)\n",
    "\n",
    "    \"\"\"Embeds a gif file in the notebook.\"\"\"\n",
    "    tag = '''\n",
    "        <video width=\"640\" height=\"480\" controls>\n",
    "            <source src=\"data:video/mp4;base64,{0}\" type=\"video/mp4\">\n",
    "            Your browser does not support the video tag.\n",
    "        </video>\n",
    "    '''.format(b64.decode())\n",
    "    return IPython.display.HTML(tag)"
   ]
  },
  {
   "cell_type": "markdown",
   "metadata": {},
   "source": [
    "## Run episodes and append video buffer to file\n",
    "\n",
    "Run 'n' episodes and append env.render() RGB Matrix to file"
   ]
  },
  {
   "cell_type": "code",
   "execution_count": 29,
   "metadata": {},
   "outputs": [],
   "source": [
    "def run_episodes_and_create_video(policy, eval_tf_env, eval_py_env, num_episodes, filename):\n",
    "    filename = f'{filename}.mp4'\n",
    "\n",
    "    with imageio.get_writer(filename, fps=60) as video:\n",
    "        for _ in range(num_episodes):\n",
    "            time_step = eval_tf_env.reset()\n",
    "            video.append_data(eval_py_env.render())\n",
    "\n",
    "            while not time_step.is_last():\n",
    "                action_step = policy.action(time_step)\n",
    "                time_step = eval_tf_env.step(action_step.action)\n",
    "                video.append_data(eval_py_env.render())\n",
    "    IPython.display.display(embed_video(filename))"
   ]
  },
  {
   "cell_type": "markdown",
   "metadata": {},
   "source": [
    "## No Train Behaviour"
   ]
  },
  {
   "cell_type": "code",
   "execution_count": 30,
   "metadata": {},
   "outputs": [
    {
     "name": "stderr",
     "output_type": "stream",
     "text": [
      "'-avx512er' is not a recognized feature for this target (ignoring feature)\n",
      "'-avx512pf' is not a recognized feature for this target (ignoring feature)\n",
      "'-avx512er' is not a recognized feature for this target (ignoring feature)\n",
      "'-avx512pf' is not a recognized feature for this target (ignoring feature)\n",
      "'-avx512er' is not a recognized feature for this target (ignoring feature)\n",
      "'-avx512pf' is not a recognized feature for this target (ignoring feature)\n",
      "'-avx512er' is not a recognized feature for this target (ignoring feature)\n",
      "'-avx512pf' is not a recognized feature for this target (ignoring feature)\n",
      "'-avx512er' is not a recognized feature for this target (ignoring feature)\n",
      "'-avx512pf' is not a recognized feature for this target (ignoring feature)\n",
      "'-avx512er' is not a recognized feature for this target (ignoring feature)\n",
      "'-avx512pf' is not a recognized feature for this target (ignoring feature)\n",
      "'-avx512er' is not a recognized feature for this target (ignoring feature)\n",
      "'-avx512pf' is not a recognized feature for this target (ignoring feature)\n",
      "'-avx512er' is not a recognized feature for this target (ignoring feature)\n",
      "'-avx512pf' is not a recognized feature for this target (ignoring feature)\n",
      "'-avx512er' is not a recognized feature for this target (ignoring feature)\n",
      "'-avx512pf' is not a recognized feature for this target (ignoring feature)\n",
      "'-avx512er' is not a recognized feature for this target (ignoring feature)\n",
      "'-avx512pf' is not a recognized feature for this target (ignoring feature)\n",
      "'-avx512er' is not a recognized feature for this target (ignoring feature)\n",
      "'-avx512pf' is not a recognized feature for this target (ignoring feature)\n",
      "'-avx512er' is not a recognized feature for this target (ignoring feature)\n",
      "'-avx512pf' is not a recognized feature for this target (ignoring feature)\n",
      "WARNING:root:IMAGEIO FFMPEG_WRITER WARNING: input image is not divisible by macro_block_size=16, resizing from (400, 600) to (400, 608) to ensure video compatibility with most codecs and players. To prevent resizing, make your input image divisible by the macro_block_size or set the macro_block_size to None (risking incompatibility). You may also see a FFMPEG warning concerning speedloss due to data not being aligned.\n"
     ]
    },
    {
     "name": "stdout",
     "output_type": "stream",
     "text": [
      "global_step: <tf.Variable 'global_step:0' shape=() dtype=int64, numpy=1>\n"
     ]
    },
    {
     "data": {
      "text/html": [
       "\n",
       "        <video width=\"640\" height=\"480\" controls>\n",
       "            <source src=\"data:video/mp4;base64,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\" type=\"video/mp4\">\n",
       "            Your browser does not support the video tag.\n",
       "        </video>\n",
       "    "
      ],
      "text/plain": [
       "<IPython.core.display.HTML object>"
      ]
     },
     "metadata": {},
     "output_type": "display_data"
    }
   ],
   "source": [
    "print(f'global_step: {global_step}')\n",
    "run_episodes_and_create_video(agent.policy, eval_env, eval_py_env, 3, \"no_train\")"
   ]
  },
  {
   "cell_type": "markdown",
   "metadata": {},
   "source": [
    "## 1 Iteration Training"
   ]
  },
  {
   "cell_type": "code",
   "execution_count": 31,
   "metadata": {},
   "outputs": [
    {
     "name": "stderr",
     "output_type": "stream",
     "text": [
      "WARNING:root:IMAGEIO FFMPEG_WRITER WARNING: input image is not divisible by macro_block_size=16, resizing from (400, 600) to (400, 608) to ensure video compatibility with most codecs and players. To prevent resizing, make your input image divisible by the macro_block_size or set the macro_block_size to None (risking incompatibility). You may also see a FFMPEG warning concerning speedloss due to data not being aligned.\n"
     ]
    },
    {
     "name": "stdout",
     "output_type": "stream",
     "text": [
      "iteration: 2 loss: 0.5058455467224121\n"
     ]
    },
    {
     "data": {
      "text/html": [
       "\n",
       "        <video width=\"640\" height=\"480\" controls>\n",
       "            <source src=\"data:video/mp4;base64,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\" type=\"video/mp4\">\n",
       "            Your browser does not support the video tag.\n",
       "        </video>\n",
       "    "
      ],
      "text/plain": [
       "<IPython.core.display.HTML object>"
      ]
     },
     "metadata": {},
     "output_type": "display_data"
    }
   ],
   "source": [
    "train_one_iteration()\n",
    "run_episodes_and_create_video(agent.policy, eval_env, eval_py_env, 3, \"1_iter_train\")"
   ]
  },
  {
   "cell_type": "markdown",
   "metadata": {},
   "source": [
    "#### Checkpointer"
   ]
  },
  {
   "cell_type": "code",
   "execution_count": 32,
   "metadata": {},
   "outputs": [],
   "source": [
    "checkpoint_dir = os.path.join(tempdir, 'checkpoint')\n",
    "train_checkpointer = common.Checkpointer(\n",
    "    ckpt_dir=checkpoint_dir,\n",
    "    max_to_keep=1,\n",
    "    agent=agent,\n",
    "    policy=agent.policy,\n",
    "    replay_buffer=replay_buffer,\n",
    "    global_step=global_step\n",
    ")"
   ]
  },
  {
   "cell_type": "markdown",
   "metadata": {},
   "source": [
    "#### Policy Saver"
   ]
  },
  {
   "cell_type": "code",
   "execution_count": 33,
   "metadata": {},
   "outputs": [
    {
     "ename": "TypeError",
     "evalue": "this __dict__ descriptor does not support '_DictWrapper' objects",
     "output_type": "error",
     "traceback": [
      "\u001b[0;31m---------------------------------------------------------------------------\u001b[0m",
      "\u001b[0;31mTypeError\u001b[0m                                 Traceback (most recent call last)",
      "Cell \u001b[0;32mIn[33], line 2\u001b[0m\n\u001b[1;32m      1\u001b[0m policy_dir \u001b[38;5;241m=\u001b[39m os\u001b[38;5;241m.\u001b[39mpath\u001b[38;5;241m.\u001b[39mjoin(tempdir, \u001b[38;5;124m'\u001b[39m\u001b[38;5;124mpolicy\u001b[39m\u001b[38;5;124m'\u001b[39m)\n\u001b[0;32m----> 2\u001b[0m tf_policy_saver \u001b[38;5;241m=\u001b[39m \u001b[43mpolicy_saver\u001b[49m\u001b[38;5;241;43m.\u001b[39;49m\u001b[43mPolicySaver\u001b[49m\u001b[43m(\u001b[49m\u001b[43magent\u001b[49m\u001b[38;5;241;43m.\u001b[39;49m\u001b[43mpolicy\u001b[49m\u001b[43m)\u001b[49m\n",
      "File \u001b[0;32m~/Scrivania/Programming/ReinforcementLearning/env/lib/python3.10/site-packages/tf_agents/policies/policy_saver.py:333\u001b[0m, in \u001b[0;36mPolicySaver.__init__\u001b[0;34m(self, policy, batch_size, use_nest_path_signatures, seed, train_step, input_fn_and_spec, metadata)\u001b[0m\n\u001b[1;32m    326\u001b[0m get_initial_state_fn\u001b[38;5;241m.\u001b[39mget_concrete_function(\u001b[38;5;241m*\u001b[39mget_initial_state_input_specs)\n\u001b[1;32m    328\u001b[0m train_step_fn \u001b[38;5;241m=\u001b[39m common\u001b[38;5;241m.\u001b[39mfunction(\n\u001b[1;32m    329\u001b[0m     \u001b[38;5;28;01mlambda\u001b[39;00m: saved_policy\u001b[38;5;241m.\u001b[39mtrain_step\n\u001b[1;32m    330\u001b[0m )\u001b[38;5;241m.\u001b[39mget_concrete_function()\n\u001b[1;32m    331\u001b[0m get_metadata_fn \u001b[38;5;241m=\u001b[39m \u001b[43mcommon\u001b[49m\u001b[38;5;241;43m.\u001b[39;49m\u001b[43mfunction\u001b[49m\u001b[43m(\u001b[49m\n\u001b[1;32m    332\u001b[0m \u001b[43m    \u001b[49m\u001b[38;5;28;43;01mlambda\u001b[39;49;00m\u001b[43m:\u001b[49m\u001b[43m \u001b[49m\u001b[43msaved_policy\u001b[49m\u001b[38;5;241;43m.\u001b[39;49m\u001b[43mmetadata\u001b[49m\n\u001b[0;32m--> 333\u001b[0m \u001b[43m\u001b[49m\u001b[43m)\u001b[49m\u001b[38;5;241;43m.\u001b[39;49m\u001b[43mget_concrete_function\u001b[49m\u001b[43m(\u001b[49m\u001b[43m)\u001b[49m\n\u001b[1;32m    335\u001b[0m batched_time_step_spec \u001b[38;5;241m=\u001b[39m tf\u001b[38;5;241m.\u001b[39mnest\u001b[38;5;241m.\u001b[39mmap_structure(\n\u001b[1;32m    336\u001b[0m     \u001b[38;5;28;01mlambda\u001b[39;00m spec: add_batch_dim(spec, [batch_size]), policy\u001b[38;5;241m.\u001b[39mtime_step_spec\n\u001b[1;32m    337\u001b[0m )\n\u001b[1;32m    338\u001b[0m batched_time_step_spec \u001b[38;5;241m=\u001b[39m cast(ts\u001b[38;5;241m.\u001b[39mTimeStep, batched_time_step_spec)\n",
      "File \u001b[0;32m~/Scrivania/Programming/ReinforcementLearning/env/lib/python3.10/site-packages/tensorflow/python/eager/polymorphic_function/polymorphic_function.py:1227\u001b[0m, in \u001b[0;36mFunction.get_concrete_function\u001b[0;34m(self, *args, **kwargs)\u001b[0m\n\u001b[1;32m   1225\u001b[0m \u001b[38;5;28;01mdef\u001b[39;00m \u001b[38;5;21mget_concrete_function\u001b[39m(\u001b[38;5;28mself\u001b[39m, \u001b[38;5;241m*\u001b[39margs, \u001b[38;5;241m*\u001b[39m\u001b[38;5;241m*\u001b[39mkwargs):\n\u001b[1;32m   1226\u001b[0m   \u001b[38;5;66;03m# Implements PolymorphicFunction.get_concrete_function.\u001b[39;00m\n\u001b[0;32m-> 1227\u001b[0m   concrete \u001b[38;5;241m=\u001b[39m \u001b[38;5;28;43mself\u001b[39;49m\u001b[38;5;241;43m.\u001b[39;49m\u001b[43m_get_concrete_function_garbage_collected\u001b[49m\u001b[43m(\u001b[49m\u001b[38;5;241;43m*\u001b[39;49m\u001b[43margs\u001b[49m\u001b[43m,\u001b[49m\u001b[43m \u001b[49m\u001b[38;5;241;43m*\u001b[39;49m\u001b[38;5;241;43m*\u001b[39;49m\u001b[43mkwargs\u001b[49m\u001b[43m)\u001b[49m\n\u001b[1;32m   1228\u001b[0m   concrete\u001b[38;5;241m.\u001b[39m_garbage_collector\u001b[38;5;241m.\u001b[39mrelease()  \u001b[38;5;66;03m# pylint: disable=protected-access\u001b[39;00m\n\u001b[1;32m   1229\u001b[0m   \u001b[38;5;28;01mreturn\u001b[39;00m concrete\n",
      "File \u001b[0;32m~/Scrivania/Programming/ReinforcementLearning/env/lib/python3.10/site-packages/tensorflow/python/eager/polymorphic_function/polymorphic_function.py:1197\u001b[0m, in \u001b[0;36mFunction._get_concrete_function_garbage_collected\u001b[0;34m(self, *args, **kwargs)\u001b[0m\n\u001b[1;32m   1195\u001b[0m   \u001b[38;5;28;01mif\u001b[39;00m \u001b[38;5;28mself\u001b[39m\u001b[38;5;241m.\u001b[39m_variable_creation_config \u001b[38;5;129;01mis\u001b[39;00m \u001b[38;5;28;01mNone\u001b[39;00m:\n\u001b[1;32m   1196\u001b[0m     initializers \u001b[38;5;241m=\u001b[39m []\n\u001b[0;32m-> 1197\u001b[0m     \u001b[38;5;28;43mself\u001b[39;49m\u001b[38;5;241;43m.\u001b[39;49m\u001b[43m_initialize\u001b[49m\u001b[43m(\u001b[49m\u001b[43margs\u001b[49m\u001b[43m,\u001b[49m\u001b[43m \u001b[49m\u001b[43mkwargs\u001b[49m\u001b[43m,\u001b[49m\u001b[43m \u001b[49m\u001b[43madd_initializers_to\u001b[49m\u001b[38;5;241;43m=\u001b[39;49m\u001b[43minitializers\u001b[49m\u001b[43m)\u001b[49m\n\u001b[1;32m   1198\u001b[0m     \u001b[38;5;28mself\u001b[39m\u001b[38;5;241m.\u001b[39m_initialize_uninitialized_variables(initializers)\n\u001b[1;32m   1200\u001b[0m \u001b[38;5;28;01mif\u001b[39;00m \u001b[38;5;28mself\u001b[39m\u001b[38;5;241m.\u001b[39m_created_variables:\n\u001b[1;32m   1201\u001b[0m   \u001b[38;5;66;03m# In this case we have created variables on the first call, so we run the\u001b[39;00m\n\u001b[1;32m   1202\u001b[0m   \u001b[38;5;66;03m# version which is guaranteed to never create variables.\u001b[39;00m\n",
      "File \u001b[0;32m~/Scrivania/Programming/ReinforcementLearning/env/lib/python3.10/site-packages/tensorflow/python/eager/polymorphic_function/polymorphic_function.py:695\u001b[0m, in \u001b[0;36mFunction._initialize\u001b[0;34m(self, args, kwds, add_initializers_to)\u001b[0m\n\u001b[1;32m    690\u001b[0m \u001b[38;5;28mself\u001b[39m\u001b[38;5;241m.\u001b[39m_variable_creation_config \u001b[38;5;241m=\u001b[39m \u001b[38;5;28mself\u001b[39m\u001b[38;5;241m.\u001b[39m_generate_scoped_tracing_options(\n\u001b[1;32m    691\u001b[0m     variable_capturing_scope,\n\u001b[1;32m    692\u001b[0m     tracing_compilation\u001b[38;5;241m.\u001b[39mScopeType\u001b[38;5;241m.\u001b[39mVARIABLE_CREATION,\n\u001b[1;32m    693\u001b[0m )\n\u001b[1;32m    694\u001b[0m \u001b[38;5;66;03m# Force the definition of the function for these arguments\u001b[39;00m\n\u001b[0;32m--> 695\u001b[0m \u001b[38;5;28mself\u001b[39m\u001b[38;5;241m.\u001b[39m_concrete_variable_creation_fn \u001b[38;5;241m=\u001b[39m \u001b[43mtracing_compilation\u001b[49m\u001b[38;5;241;43m.\u001b[39;49m\u001b[43mtrace_function\u001b[49m\u001b[43m(\u001b[49m\n\u001b[1;32m    696\u001b[0m \u001b[43m    \u001b[49m\u001b[43margs\u001b[49m\u001b[43m,\u001b[49m\u001b[43m \u001b[49m\u001b[43mkwds\u001b[49m\u001b[43m,\u001b[49m\u001b[43m \u001b[49m\u001b[38;5;28;43mself\u001b[39;49m\u001b[38;5;241;43m.\u001b[39;49m\u001b[43m_variable_creation_config\u001b[49m\n\u001b[1;32m    697\u001b[0m \u001b[43m\u001b[49m\u001b[43m)\u001b[49m\n\u001b[1;32m    699\u001b[0m \u001b[38;5;28;01mdef\u001b[39;00m \u001b[38;5;21minvalid_creator_scope\u001b[39m(\u001b[38;5;241m*\u001b[39munused_args, \u001b[38;5;241m*\u001b[39m\u001b[38;5;241m*\u001b[39munused_kwds):\n\u001b[1;32m    700\u001b[0m \u001b[38;5;250m  \u001b[39m\u001b[38;5;124;03m\"\"\"Disables variable creation.\"\"\"\u001b[39;00m\n",
      "File \u001b[0;32m~/Scrivania/Programming/ReinforcementLearning/env/lib/python3.10/site-packages/tensorflow/python/eager/polymorphic_function/tracing_compilation.py:178\u001b[0m, in \u001b[0;36mtrace_function\u001b[0;34m(args, kwargs, tracing_options)\u001b[0m\n\u001b[1;32m    175\u001b[0m     args \u001b[38;5;241m=\u001b[39m tracing_options\u001b[38;5;241m.\u001b[39minput_signature\n\u001b[1;32m    176\u001b[0m     kwargs \u001b[38;5;241m=\u001b[39m {}\n\u001b[0;32m--> 178\u001b[0m   concrete_function \u001b[38;5;241m=\u001b[39m \u001b[43m_maybe_define_function\u001b[49m\u001b[43m(\u001b[49m\n\u001b[1;32m    179\u001b[0m \u001b[43m      \u001b[49m\u001b[43margs\u001b[49m\u001b[43m,\u001b[49m\u001b[43m \u001b[49m\u001b[43mkwargs\u001b[49m\u001b[43m,\u001b[49m\u001b[43m \u001b[49m\u001b[43mtracing_options\u001b[49m\n\u001b[1;32m    180\u001b[0m \u001b[43m  \u001b[49m\u001b[43m)\u001b[49m\n\u001b[1;32m    182\u001b[0m \u001b[38;5;28;01mif\u001b[39;00m \u001b[38;5;129;01mnot\u001b[39;00m tracing_options\u001b[38;5;241m.\u001b[39mbind_graph_to_function:\n\u001b[1;32m    183\u001b[0m   concrete_function\u001b[38;5;241m.\u001b[39m_garbage_collector\u001b[38;5;241m.\u001b[39mrelease()  \u001b[38;5;66;03m# pylint: disable=protected-access\u001b[39;00m\n",
      "File \u001b[0;32m~/Scrivania/Programming/ReinforcementLearning/env/lib/python3.10/site-packages/tensorflow/python/eager/polymorphic_function/tracing_compilation.py:283\u001b[0m, in \u001b[0;36m_maybe_define_function\u001b[0;34m(args, kwargs, tracing_options)\u001b[0m\n\u001b[1;32m    281\u001b[0m \u001b[38;5;28;01melse\u001b[39;00m:\n\u001b[1;32m    282\u001b[0m   target_func_type \u001b[38;5;241m=\u001b[39m lookup_func_type\n\u001b[0;32m--> 283\u001b[0m concrete_function \u001b[38;5;241m=\u001b[39m \u001b[43m_create_concrete_function\u001b[49m\u001b[43m(\u001b[49m\n\u001b[1;32m    284\u001b[0m \u001b[43m    \u001b[49m\u001b[43mtarget_func_type\u001b[49m\u001b[43m,\u001b[49m\u001b[43m \u001b[49m\u001b[43mlookup_func_context\u001b[49m\u001b[43m,\u001b[49m\u001b[43m \u001b[49m\u001b[43mfunc_graph\u001b[49m\u001b[43m,\u001b[49m\u001b[43m \u001b[49m\u001b[43mtracing_options\u001b[49m\n\u001b[1;32m    285\u001b[0m \u001b[43m\u001b[49m\u001b[43m)\u001b[49m\n\u001b[1;32m    287\u001b[0m \u001b[38;5;28;01mif\u001b[39;00m tracing_options\u001b[38;5;241m.\u001b[39mfunction_cache \u001b[38;5;129;01mis\u001b[39;00m \u001b[38;5;129;01mnot\u001b[39;00m \u001b[38;5;28;01mNone\u001b[39;00m:\n\u001b[1;32m    288\u001b[0m   tracing_options\u001b[38;5;241m.\u001b[39mfunction_cache\u001b[38;5;241m.\u001b[39madd(\n\u001b[1;32m    289\u001b[0m       concrete_function, current_func_context\n\u001b[1;32m    290\u001b[0m   )\n",
      "File \u001b[0;32m~/Scrivania/Programming/ReinforcementLearning/env/lib/python3.10/site-packages/tensorflow/python/eager/polymorphic_function/tracing_compilation.py:331\u001b[0m, in \u001b[0;36m_create_concrete_function\u001b[0;34m(function_type, type_context, func_graph, tracing_options)\u001b[0m\n\u001b[1;32m    328\u001b[0m   tracing_options\u001b[38;5;241m.\u001b[39mfunction_captures\u001b[38;5;241m.\u001b[39mmerge_by_ref_with(graph_capture_container)\n\u001b[1;32m    330\u001b[0m \u001b[38;5;66;03m# Create a new FunctionType including captures and outputs.\u001b[39;00m\n\u001b[0;32m--> 331\u001b[0m output_type \u001b[38;5;241m=\u001b[39m \u001b[43mtrace_type\u001b[49m\u001b[38;5;241;43m.\u001b[39;49m\u001b[43mfrom_value\u001b[49m\u001b[43m(\u001b[49m\n\u001b[1;32m    332\u001b[0m \u001b[43m    \u001b[49m\u001b[43mtraced_func_graph\u001b[49m\u001b[38;5;241;43m.\u001b[39;49m\u001b[43mstructured_outputs\u001b[49m\u001b[43m,\u001b[49m\u001b[43m \u001b[49m\u001b[43mtype_context\u001b[49m\n\u001b[1;32m    333\u001b[0m \u001b[43m\u001b[49m\u001b[43m)\u001b[49m\n\u001b[1;32m    334\u001b[0m traced_func_type \u001b[38;5;241m=\u001b[39m function_type_lib\u001b[38;5;241m.\u001b[39mFunctionType(\n\u001b[1;32m    335\u001b[0m     function_type\u001b[38;5;241m.\u001b[39mparameters\u001b[38;5;241m.\u001b[39mvalues(),\n\u001b[1;32m    336\u001b[0m     traced_func_graph\u001b[38;5;241m.\u001b[39mfunction_captures\u001b[38;5;241m.\u001b[39mcapture_types,\n\u001b[1;32m    337\u001b[0m     return_annotation\u001b[38;5;241m=\u001b[39moutput_type,\n\u001b[1;32m    338\u001b[0m )\n\u001b[1;32m    340\u001b[0m concrete_function \u001b[38;5;241m=\u001b[39m concrete_function_lib\u001b[38;5;241m.\u001b[39mConcreteFunction\u001b[38;5;241m.\u001b[39mfrom_func_graph(\n\u001b[1;32m    341\u001b[0m     traced_func_graph,\n\u001b[1;32m    342\u001b[0m     traced_func_type,\n\u001b[0;32m   (...)\u001b[0m\n\u001b[1;32m    348\u001b[0m     shared_func_graph\u001b[38;5;241m=\u001b[39m\u001b[38;5;28;01mFalse\u001b[39;00m,\n\u001b[1;32m    349\u001b[0m )\n",
      "File \u001b[0;32m~/Scrivania/Programming/ReinforcementLearning/env/lib/python3.10/site-packages/tensorflow/core/function/trace_type/trace_type_builder.py:144\u001b[0m, in \u001b[0;36mfrom_value\u001b[0;34m(value, context)\u001b[0m\n\u001b[1;32m    142\u001b[0m \u001b[38;5;28;01mif\u001b[39;00m context\u001b[38;5;241m.\u001b[39mis_legacy_signature \u001b[38;5;129;01mand\u001b[39;00m \u001b[38;5;28misinstance\u001b[39m(value, trace\u001b[38;5;241m.\u001b[39mTraceType):\n\u001b[1;32m    143\u001b[0m   \u001b[38;5;28;01mreturn\u001b[39;00m value\n\u001b[0;32m--> 144\u001b[0m \u001b[38;5;28;01melif\u001b[39;00m \u001b[38;5;28;43misinstance\u001b[39;49m\u001b[43m(\u001b[49m\u001b[43mvalue\u001b[49m\u001b[43m,\u001b[49m\u001b[43m \u001b[49m\u001b[43mtrace\u001b[49m\u001b[38;5;241;43m.\u001b[39;49m\u001b[43mSupportsTracingProtocol\u001b[49m\u001b[43m)\u001b[49m:\n\u001b[1;32m    145\u001b[0m   generated_type \u001b[38;5;241m=\u001b[39m value\u001b[38;5;241m.\u001b[39m__tf_tracing_type__(context)\n\u001b[1;32m    146\u001b[0m   \u001b[38;5;28;01mif\u001b[39;00m \u001b[38;5;129;01mnot\u001b[39;00m \u001b[38;5;28misinstance\u001b[39m(generated_type, trace\u001b[38;5;241m.\u001b[39mTraceType):\n",
      "File \u001b[0;32m~/Scrivania/Programming/ReinforcementLearning/env/lib/python3.10/site-packages/typing_extensions.py:647\u001b[0m, in \u001b[0;36m_ProtocolMeta.__instancecheck__\u001b[0;34m(cls, instance)\u001b[0m\n\u001b[1;32m    645\u001b[0m \u001b[38;5;28;01mfor\u001b[39;00m attr \u001b[38;5;129;01min\u001b[39;00m \u001b[38;5;28mcls\u001b[39m\u001b[38;5;241m.\u001b[39m__protocol_attrs__:\n\u001b[1;32m    646\u001b[0m     \u001b[38;5;28;01mtry\u001b[39;00m:\n\u001b[0;32m--> 647\u001b[0m         val \u001b[38;5;241m=\u001b[39m \u001b[43minspect\u001b[49m\u001b[38;5;241;43m.\u001b[39;49m\u001b[43mgetattr_static\u001b[49m\u001b[43m(\u001b[49m\u001b[43minstance\u001b[49m\u001b[43m,\u001b[49m\u001b[43m \u001b[49m\u001b[43mattr\u001b[49m\u001b[43m)\u001b[49m\n\u001b[1;32m    648\u001b[0m     \u001b[38;5;28;01mexcept\u001b[39;00m \u001b[38;5;167;01mAttributeError\u001b[39;00m:\n\u001b[1;32m    649\u001b[0m         \u001b[38;5;28;01mbreak\u001b[39;00m\n",
      "File \u001b[0;32m/usr/local/lib/python3.10/inspect.py:1743\u001b[0m, in \u001b[0;36mgetattr_static\u001b[0;34m(obj, attr, default)\u001b[0m\n\u001b[1;32m   1740\u001b[0m     dict_attr \u001b[38;5;241m=\u001b[39m _shadowed_dict(klass)\n\u001b[1;32m   1741\u001b[0m     \u001b[38;5;28;01mif\u001b[39;00m (dict_attr \u001b[38;5;129;01mis\u001b[39;00m _sentinel \u001b[38;5;129;01mor\u001b[39;00m\n\u001b[1;32m   1742\u001b[0m         \u001b[38;5;28mtype\u001b[39m(dict_attr) \u001b[38;5;129;01mis\u001b[39;00m types\u001b[38;5;241m.\u001b[39mMemberDescriptorType):\n\u001b[0;32m-> 1743\u001b[0m         instance_result \u001b[38;5;241m=\u001b[39m \u001b[43m_check_instance\u001b[49m\u001b[43m(\u001b[49m\u001b[43mobj\u001b[49m\u001b[43m,\u001b[49m\u001b[43m \u001b[49m\u001b[43mattr\u001b[49m\u001b[43m)\u001b[49m\n\u001b[1;32m   1744\u001b[0m \u001b[38;5;28;01melse\u001b[39;00m:\n\u001b[1;32m   1745\u001b[0m     klass \u001b[38;5;241m=\u001b[39m obj\n",
      "File \u001b[0;32m/usr/local/lib/python3.10/inspect.py:1690\u001b[0m, in \u001b[0;36m_check_instance\u001b[0;34m(obj, attr)\u001b[0m\n\u001b[1;32m   1688\u001b[0m instance_dict \u001b[38;5;241m=\u001b[39m {}\n\u001b[1;32m   1689\u001b[0m \u001b[38;5;28;01mtry\u001b[39;00m:\n\u001b[0;32m-> 1690\u001b[0m     instance_dict \u001b[38;5;241m=\u001b[39m \u001b[38;5;28;43mobject\u001b[39;49m\u001b[38;5;241;43m.\u001b[39;49m\u001b[38;5;21;43m__getattribute__\u001b[39;49m\u001b[43m(\u001b[49m\u001b[43mobj\u001b[49m\u001b[43m,\u001b[49m\u001b[43m \u001b[49m\u001b[38;5;124;43m\"\u001b[39;49m\u001b[38;5;124;43m__dict__\u001b[39;49m\u001b[38;5;124;43m\"\u001b[39;49m\u001b[43m)\u001b[49m\n\u001b[1;32m   1691\u001b[0m \u001b[38;5;28;01mexcept\u001b[39;00m \u001b[38;5;167;01mAttributeError\u001b[39;00m:\n\u001b[1;32m   1692\u001b[0m     \u001b[38;5;28;01mpass\u001b[39;00m\n",
      "\u001b[0;31mTypeError\u001b[0m: this __dict__ descriptor does not support '_DictWrapper' objects"
     ]
    }
   ],
   "source": [
    "policy_dir = os.path.join(tempdir, 'policy')\n",
    "tf_policy_saver = policy_saver.PolicySaver(agent.policy)"
   ]
  },
  {
   "cell_type": "code",
   "execution_count": null,
   "metadata": {},
   "outputs": [],
   "source": [
    "saved_policy = tf.saved_model.load(policy_dir)\n",
    "run_episodes_and_create_video(saved_policy, eval_env, eval_py_env)"
   ]
  },
  {
   "cell_type": "code",
   "execution_count": null,
   "metadata": {},
   "outputs": [],
   "source": [
    "def create_zip_file(dirname, base_filename):\n",
    "  return shutil.make_archive(base_filename, 'zip', dirname)\n",
    "\n",
    "def upload_and_unzip_file_to(dirname):\n",
    "  if files is None:\n",
    "    return\n",
    "  uploaded = files.upload()\n",
    "  for fn in uploaded.keys():\n",
    "    print('User uploaded file \"{name}\" with length {length} bytes'.format(\n",
    "        name=fn, length=len(uploaded[fn])))\n",
    "    shutil.rmtree(dirname)\n",
    "    zip_files = zipfile.ZipFile(io.BytesIO(uploaded[fn]), 'r')\n",
    "    zip_files.extractall(dirname)\n",
    "    zip_files.close()"
   ]
  },
  {
   "cell_type": "code",
   "execution_count": null,
   "metadata": {},
   "outputs": [],
   "source": [
    "train_checkpointer.save(global_step)\n",
    "checkpoint_zip_filename = create_zip_file(checkpoint_dir, os.path.join(tempdir, 'exported_cp'))"
   ]
  },
  {
   "cell_type": "code",
   "execution_count": null,
   "metadata": {},
   "outputs": [],
   "source": [
    "if files is not None:\n",
    "  files.download(checkpoint_zip_filename) # try again if this fails: https://github.com/googlecolab/colabtools/issues/469"
   ]
  },
  {
   "cell_type": "code",
   "execution_count": null,
   "metadata": {},
   "outputs": [],
   "source": [
    "upload_and_unzip_file_to(checkpoint_dir)\n",
    "train_checkpointer.initialize_or_restore()\n",
    "global_step = tf.compat.v1.train.get_global_step()"
   ]
  },
  {
   "cell_type": "code",
   "execution_count": null,
   "metadata": {},
   "outputs": [],
   "source": [
    "tf_policy_saver.save(policy_dir)\n",
    "policy_zip_filename = create_zip_file(policy_dir, os.path.join(tempdir, 'exported_policy'))"
   ]
  },
  {
   "cell_type": "code",
   "execution_count": null,
   "metadata": {},
   "outputs": [],
   "source": [
    "if files is not None:\n",
    "  files.download(policy_zip_filename) # try again if this fails: https://github.com/googlecolab/colabtools/issues/469"
   ]
  },
  {
   "cell_type": "code",
   "execution_count": null,
   "metadata": {},
   "outputs": [],
   "source": [
    "upload_and_unzip_file_to(policy_dir)\n",
    "saved_policy = tf.saved_model.load(policy_dir)\n",
    "run_episodes_and_create_video(saved_policy, eval_env, eval_py_env)"
   ]
  }
 ],
 "metadata": {
  "kernelspec": {
   "display_name": "env",
   "language": "python",
   "name": "python3"
  },
  "language_info": {
   "codemirror_mode": {
    "name": "ipython",
    "version": 3
   },
   "file_extension": ".py",
   "mimetype": "text/x-python",
   "name": "python",
   "nbconvert_exporter": "python",
   "pygments_lexer": "ipython3",
   "version": "3.10.16"
  }
 },
 "nbformat": 4,
 "nbformat_minor": 2
}
